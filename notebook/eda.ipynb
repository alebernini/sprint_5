{
 "cells": [
  {
   "cell_type": "code",
   "execution_count": 3,
   "metadata": {},
   "outputs": [],
   "source": [
    "import pandas as pd\n",
    "from pathlib import Path"
   ]
  },
  {
   "cell_type": "code",
   "execution_count": 4,
   "metadata": {},
   "outputs": [],
   "source": [
    "import funcoes"
   ]
  },
  {
   "cell_type": "code",
   "execution_count": 5,
   "metadata": {},
   "outputs": [],
   "source": [
    "df = pd.read_csv(Path(\"../data/turnover.csv\"))"
   ]
  },
  {
   "cell_type": "code",
   "execution_count": 6,
   "metadata": {},
   "outputs": [
    {
     "data": {
      "text/html": [
       "<div>\n",
       "<style scoped>\n",
       "    .dataframe tbody tr th:only-of-type {\n",
       "        vertical-align: middle;\n",
       "    }\n",
       "\n",
       "    .dataframe tbody tr th {\n",
       "        vertical-align: top;\n",
       "    }\n",
       "\n",
       "    .dataframe thead th {\n",
       "        text-align: right;\n",
       "    }\n",
       "</style>\n",
       "<table border=\"1\" class=\"dataframe\">\n",
       "  <thead>\n",
       "    <tr style=\"text-align: right;\">\n",
       "      <th></th>\n",
       "      <th>Idade</th>\n",
       "      <th>Turnover</th>\n",
       "      <th>ViagensTrabalho</th>\n",
       "      <th>Departamento</th>\n",
       "      <th>DistanciaCasa</th>\n",
       "      <th>NivelEducacao</th>\n",
       "      <th>Educacao</th>\n",
       "      <th>NumeroEmpregado</th>\n",
       "      <th>NivelSatisfacaoAmbiente</th>\n",
       "      <th>Genero</th>\n",
       "      <th>...</th>\n",
       "      <th>PercentualAumentoSalario</th>\n",
       "      <th>AvaliacaoDesempenho</th>\n",
       "      <th>QtdeHorasTrabalhadasPadrao</th>\n",
       "      <th>TotalAnosTrabalhados</th>\n",
       "      <th>TreinamentosUltimoAno</th>\n",
       "      <th>BalanceamentoVidaTrabalho</th>\n",
       "      <th>QtdeAnosNaEmpresaAtual</th>\n",
       "      <th>QtdeAnosNoCargoAtual</th>\n",
       "      <th>QtdeAnosDesdeUltimaPromocao</th>\n",
       "      <th>QtdeAnosComGerenteAtual</th>\n",
       "    </tr>\n",
       "  </thead>\n",
       "  <tbody>\n",
       "    <tr>\n",
       "      <th>0</th>\n",
       "      <td>41.0</td>\n",
       "      <td>Yes</td>\n",
       "      <td>Travel_Rarely</td>\n",
       "      <td>Sales</td>\n",
       "      <td>1</td>\n",
       "      <td>2</td>\n",
       "      <td>Life Sciences</td>\n",
       "      <td>1</td>\n",
       "      <td>2</td>\n",
       "      <td>Female</td>\n",
       "      <td>...</td>\n",
       "      <td>11</td>\n",
       "      <td>3</td>\n",
       "      <td>80</td>\n",
       "      <td>8</td>\n",
       "      <td>0</td>\n",
       "      <td>1</td>\n",
       "      <td>6</td>\n",
       "      <td>4</td>\n",
       "      <td>0</td>\n",
       "      <td>5</td>\n",
       "    </tr>\n",
       "    <tr>\n",
       "      <th>1</th>\n",
       "      <td>49.0</td>\n",
       "      <td>No</td>\n",
       "      <td>Travel_Frequently</td>\n",
       "      <td>Research &amp; Development</td>\n",
       "      <td>8</td>\n",
       "      <td>1</td>\n",
       "      <td>Life Sciences</td>\n",
       "      <td>2</td>\n",
       "      <td>3</td>\n",
       "      <td>Male</td>\n",
       "      <td>...</td>\n",
       "      <td>23</td>\n",
       "      <td>4</td>\n",
       "      <td>80</td>\n",
       "      <td>10</td>\n",
       "      <td>3</td>\n",
       "      <td>3</td>\n",
       "      <td>10</td>\n",
       "      <td>7</td>\n",
       "      <td>1</td>\n",
       "      <td>7</td>\n",
       "    </tr>\n",
       "    <tr>\n",
       "      <th>2</th>\n",
       "      <td>37.0</td>\n",
       "      <td>Yes</td>\n",
       "      <td>Travel_Rarely</td>\n",
       "      <td>Research &amp; Development</td>\n",
       "      <td>2</td>\n",
       "      <td>2</td>\n",
       "      <td>Other</td>\n",
       "      <td>4</td>\n",
       "      <td>4</td>\n",
       "      <td>Male</td>\n",
       "      <td>...</td>\n",
       "      <td>15</td>\n",
       "      <td>3</td>\n",
       "      <td>80</td>\n",
       "      <td>7</td>\n",
       "      <td>3</td>\n",
       "      <td>3</td>\n",
       "      <td>0</td>\n",
       "      <td>0</td>\n",
       "      <td>0</td>\n",
       "      <td>0</td>\n",
       "    </tr>\n",
       "    <tr>\n",
       "      <th>3</th>\n",
       "      <td>33.0</td>\n",
       "      <td>No</td>\n",
       "      <td>Travel_Frequently</td>\n",
       "      <td>Research &amp; Development</td>\n",
       "      <td>3</td>\n",
       "      <td>4</td>\n",
       "      <td>Life Sciences</td>\n",
       "      <td>5</td>\n",
       "      <td>4</td>\n",
       "      <td>Female</td>\n",
       "      <td>...</td>\n",
       "      <td>11</td>\n",
       "      <td>3</td>\n",
       "      <td>80</td>\n",
       "      <td>8</td>\n",
       "      <td>3</td>\n",
       "      <td>3</td>\n",
       "      <td>8</td>\n",
       "      <td>7</td>\n",
       "      <td>3</td>\n",
       "      <td>0</td>\n",
       "    </tr>\n",
       "    <tr>\n",
       "      <th>4</th>\n",
       "      <td>27.0</td>\n",
       "      <td>No</td>\n",
       "      <td>Travel_Rarely</td>\n",
       "      <td>Research &amp; Development</td>\n",
       "      <td>2</td>\n",
       "      <td>1</td>\n",
       "      <td>Medical</td>\n",
       "      <td>7</td>\n",
       "      <td>1</td>\n",
       "      <td>Male</td>\n",
       "      <td>...</td>\n",
       "      <td>12</td>\n",
       "      <td>3</td>\n",
       "      <td>80</td>\n",
       "      <td>6</td>\n",
       "      <td>3</td>\n",
       "      <td>3</td>\n",
       "      <td>2</td>\n",
       "      <td>2</td>\n",
       "      <td>2</td>\n",
       "      <td>2</td>\n",
       "    </tr>\n",
       "  </tbody>\n",
       "</table>\n",
       "<p>5 rows × 30 columns</p>\n",
       "</div>"
      ],
      "text/plain": [
       "   Idade Turnover    ViagensTrabalho            Departamento  DistanciaCasa  \\\n",
       "0   41.0      Yes      Travel_Rarely                   Sales              1   \n",
       "1   49.0       No  Travel_Frequently  Research & Development              8   \n",
       "2   37.0      Yes      Travel_Rarely  Research & Development              2   \n",
       "3   33.0       No  Travel_Frequently  Research & Development              3   \n",
       "4   27.0       No      Travel_Rarely  Research & Development              2   \n",
       "\n",
       "   NivelEducacao       Educacao  NumeroEmpregado  NivelSatisfacaoAmbiente  \\\n",
       "0              2  Life Sciences                1                        2   \n",
       "1              1  Life Sciences                2                        3   \n",
       "2              2          Other                4                        4   \n",
       "3              4  Life Sciences                5                        4   \n",
       "4              1        Medical                7                        1   \n",
       "\n",
       "   Genero  ...  PercentualAumentoSalario  AvaliacaoDesempenho  \\\n",
       "0  Female  ...                        11                    3   \n",
       "1    Male  ...                        23                    4   \n",
       "2    Male  ...                        15                    3   \n",
       "3  Female  ...                        11                    3   \n",
       "4    Male  ...                        12                    3   \n",
       "\n",
       "   QtdeHorasTrabalhadasPadrao TotalAnosTrabalhados  TreinamentosUltimoAno  \\\n",
       "0                          80                    8                      0   \n",
       "1                          80                   10                      3   \n",
       "2                          80                    7                      3   \n",
       "3                          80                    8                      3   \n",
       "4                          80                    6                      3   \n",
       "\n",
       "  BalanceamentoVidaTrabalho  QtdeAnosNaEmpresaAtual  QtdeAnosNoCargoAtual  \\\n",
       "0                         1                       6                     4   \n",
       "1                         3                      10                     7   \n",
       "2                         3                       0                     0   \n",
       "3                         3                       8                     7   \n",
       "4                         3                       2                     2   \n",
       "\n",
       "  QtdeAnosDesdeUltimaPromocao QtdeAnosComGerenteAtual  \n",
       "0                           0                       5  \n",
       "1                           1                       7  \n",
       "2                           0                       0  \n",
       "3                           3                       0  \n",
       "4                           2                       2  \n",
       "\n",
       "[5 rows x 30 columns]"
      ]
     },
     "execution_count": 6,
     "metadata": {},
     "output_type": "execute_result"
    }
   ],
   "source": [
    "df.head()"
   ]
  },
  {
   "cell_type": "code",
   "execution_count": 7,
   "metadata": {},
   "outputs": [
    {
     "data": {
      "text/plain": [
       "Idade                          0.098639\n",
       "Turnover                       0.000000\n",
       "QtdeAnosDesdeUltimaPromocao    0.000000\n",
       "QtdeAnosNoCargoAtual           0.000000\n",
       "QtdeAnosNaEmpresaAtual         0.000000\n",
       "dtype: float64"
      ]
     },
     "execution_count": 7,
     "metadata": {},
     "output_type": "execute_result"
    }
   ],
   "source": [
    "df.isna().mean().sort_values(ascending=False).head(5)"
   ]
  },
  {
   "cell_type": "code",
   "execution_count": 8,
   "metadata": {},
   "outputs": [],
   "source": [
    "df = df.dropna(subset='Idade')"
   ]
  },
  {
   "cell_type": "code",
   "execution_count": 9,
   "metadata": {},
   "outputs": [
    {
     "data": {
      "text/plain": [
       "Idade                          0.0\n",
       "Turnover                       0.0\n",
       "QtdeAnosDesdeUltimaPromocao    0.0\n",
       "QtdeAnosNoCargoAtual           0.0\n",
       "QtdeAnosNaEmpresaAtual         0.0\n",
       "dtype: float64"
      ]
     },
     "execution_count": 9,
     "metadata": {},
     "output_type": "execute_result"
    }
   ],
   "source": [
    "df.isna().mean().sort_values(ascending=False).head(5)"
   ]
  },
  {
   "cell_type": "code",
   "execution_count": 10,
   "metadata": {},
   "outputs": [],
   "source": [
    "def dropar_na(df, coluna, limite_dados_faltantes):\n",
    "    if df[coluna].isna().mean() > limite_dados_faltantes: \n",
    "        df = df.dropna_na(subset=[coluna])\n",
    "    return df   "
   ]
  },
  {
   "cell_type": "code",
   "execution_count": 11,
   "metadata": {},
   "outputs": [
    {
     "ename": "AttributeError",
     "evalue": "module 'funcoes' has no attribute 'dropar_na'",
     "output_type": "error",
     "traceback": [
      "\u001b[1;31m---------------------------------------------------------------------------\u001b[0m",
      "\u001b[1;31mAttributeError\u001b[0m                            Traceback (most recent call last)",
      "Cell \u001b[1;32mIn[11], line 1\u001b[0m\n\u001b[1;32m----> 1\u001b[0m df \u001b[38;5;241m=\u001b[39m \u001b[43mfuncoes\u001b[49m\u001b[38;5;241;43m.\u001b[39;49m\u001b[43mdropar_na\u001b[49m(df, \u001b[38;5;124m'\u001b[39m\u001b[38;5;124mIdade\u001b[39m\u001b[38;5;124m'\u001b[39m, \u001b[38;5;241m0.05\u001b[39m)\n",
      "\u001b[1;31mAttributeError\u001b[0m: module 'funcoes' has no attribute 'dropar_na'"
     ]
    }
   ],
   "source": [
    "df = funcoes.dropar_na(df, 'Idade', 0.05)"
   ]
  },
  {
   "cell_type": "code",
   "execution_count": 12,
   "metadata": {},
   "outputs": [
    {
     "data": {
      "text/plain": [
       "1325"
      ]
     },
     "execution_count": 12,
     "metadata": {},
     "output_type": "execute_result"
    }
   ],
   "source": [
    "len(df)"
   ]
  },
  {
   "cell_type": "code",
   "execution_count": 13,
   "metadata": {},
   "outputs": [
    {
     "data": {
      "text/plain": [
       "<Axes: >"
      ]
     },
     "execution_count": 13,
     "metadata": {},
     "output_type": "execute_result"
    },
    {
     "data": {
      "image/png": "[encoded data removed]",
      "text/plain": [
       "<Figure size 640x480 with 1 Axes>"
      ]
     },
     "metadata": {},
     "output_type": "display_data"
    }
   ],
   "source": [
    "df['RendaMensal'].hist()"
   ]
  },
  {
   "cell_type": "code",
   "execution_count": 88,
   "metadata": {},
   "outputs": [
    {
     "data": {
      "text/plain": [
       "<Axes: >"
      ]
     },
     "execution_count": 88,
     "metadata": {},
     "output_type": "execute_result"
    },
    {
     "data": {
      "image/png": "[encoded data removed]",
      "text/plain": [
       "<Figure size 640x480 with 1 Axes>"
      ]
     },
     "metadata": {},
     "output_type": "display_data"
    }
   ],
   "source": [
    "#verificar outliers\n",
    "\n",
    "Media = df['RendaMensal'].mean()\n",
    "Desvio_Padrao = df['RendaMensal'].std()\n",
    "Limite_Superior = Media + 2*Desvio_Padrao\n",
    "Limite_Inferior = Media - 2*Desvio_Padrao\n",
    "df = df[(df['RendaMensal'] > Limite_Inferior) & (df['RendaMensal'] < Limite_Superior)]\n",
    "df['RendaMensal'].hist()\n"
   ]
  },
  {
   "cell_type": "code",
   "execution_count": 14,
   "metadata": {},
   "outputs": [],
   "source": [
    "def limpar_outlier (df, coluna):\n",
    "    Media = df[coluna].mean()    \n",
    "    Desvio_Padrao = df[coluna].std()\n",
    "    Limite_Superior = Media + 2*Desvio_Padrao\n",
    "    Limite_Inferior = Media - 2*Desvio_Padrao\n",
    "    df = df[(df[coluna] > Limite_Inferior) & (df[coluna] < Limite_Superior)]\n",
    "\n",
    "    return df  \n"
   ]
  },
  {
   "cell_type": "code",
   "execution_count": 15,
   "metadata": {},
   "outputs": [
    {
     "ename": "AttributeError",
     "evalue": "module 'funcoes' has no attribute 'limpar_outlier'",
     "output_type": "error",
     "traceback": [
      "\u001b[1;31m---------------------------------------------------------------------------\u001b[0m",
      "\u001b[1;31mAttributeError\u001b[0m                            Traceback (most recent call last)",
      "Cell \u001b[1;32mIn[15], line 1\u001b[0m\n\u001b[1;32m----> 1\u001b[0m df \u001b[38;5;241m=\u001b[39m \u001b[43mfuncoes\u001b[49m\u001b[38;5;241;43m.\u001b[39;49m\u001b[43mlimpar_outlier\u001b[49m(df, \u001b[38;5;124m'\u001b[39m\u001b[38;5;124mRendaMensal\u001b[39m\u001b[38;5;124m'\u001b[39m)\n\u001b[0;32m      2\u001b[0m df \u001b[38;5;241m=\u001b[39m funcoes\u001b[38;5;241m.\u001b[39mlimpar_outlier(df, \u001b[38;5;124m'\u001b[39m\u001b[38;5;124mIdade\u001b[39m\u001b[38;5;124m'\u001b[39m)\n",
      "\u001b[1;31mAttributeError\u001b[0m: module 'funcoes' has no attribute 'limpar_outlier'"
     ]
    }
   ],
   "source": [
    "df = funcoes.limpar_outlier(df, 'RendaMensal')\n",
    "df = funcoes.limpar_outlier(df, 'Idade')"
   ]
  },
  {
   "cell_type": "code",
   "execution_count": 91,
   "metadata": {},
   "outputs": [
    {
     "data": {
      "text/plain": [
       "np.float64(15801.795919014601)"
      ]
     },
     "execution_count": 91,
     "metadata": {},
     "output_type": "execute_result"
    }
   ],
   "source": [
    "Limite_Superior"
   ]
  },
  {
   "cell_type": "code",
   "execution_count": 92,
   "metadata": {},
   "outputs": [
    {
     "data": {
      "text/plain": [
       "np.float64(-2880.2895039202613)"
      ]
     },
     "execution_count": 92,
     "metadata": {},
     "output_type": "execute_result"
    }
   ],
   "source": [
    "Limite_Inferior"
   ]
  },
  {
   "cell_type": "code",
   "execution_count": 16,
   "metadata": {},
   "outputs": [
    {
     "data": {
      "text/plain": [
       "<Axes: >"
      ]
     },
     "execution_count": 16,
     "metadata": {},
     "output_type": "execute_result"
    },
    {
     "data": {
      "image/png": "[encoded data removed]",
      "text/plain": [
       "<Figure size 640x480 with 1 Axes>"
      ]
     },
     "metadata": {},
     "output_type": "display_data"
    }
   ],
   "source": [
    "Media = df['Idade'].mean()\n",
    "Desvio_Padrao = df['Idade'].std()\n",
    "Limite_Superior = Media + 2*Desvio_Padrao\n",
    "Limite_Inferior = Media - 2*Desvio_Padrao\n",
    "df = df[(df['Idade'] > Limite_Inferior) & (df['Idade'] < Limite_Superior)]\n",
    "df['Idade'].hist()"
   ]
  },
  {
   "cell_type": "code",
   "execution_count": null,
   "metadata": {},
   "outputs": [],
   "source": [
    "    "
   ]
  }
 ],
 "metadata": {
  "kernelspec": {
   "display_name": "sprint5",
   "language": "python",
   "name": "python3"
  },
  "language_info": {
   "codemirror_mode": {
    "name": "ipython",
    "version": 3
   },
   "file_extension": ".py",
   "mimetype": "text/x-python",
   "name": "python",
   "nbconvert_exporter": "python",
   "pygments_lexer": "ipython3",
   "version": "3.11.9"
  }
 },
 "nbformat": 4,
 "nbformat_minor": 2
}
